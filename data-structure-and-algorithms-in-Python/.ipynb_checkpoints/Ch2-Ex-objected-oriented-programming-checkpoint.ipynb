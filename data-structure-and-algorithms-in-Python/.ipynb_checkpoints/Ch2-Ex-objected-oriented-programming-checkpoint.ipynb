{
 "cells": [
  {
   "cell_type": "markdown",
   "metadata": {},
   "source": [
    "## Reinforcement"
   ]
  },
  {
   "cell_type": "markdown",
   "metadata": {},
   "source": [
    "2.1\tGive three examples of life-critical software applications."
   ]
  },
  {
   "cell_type": "markdown",
   "metadata": {},
   "source": [
    "2.2 Give an example of a software application in which adaptability can mean the difference between a prolonged lifetime of sales and bankruptcy."
   ]
  },
  {
   "cell_type": "markdown",
   "metadata": {},
   "source": [
    "2.3 Describe a component from a text-editor GUI and the methods that it encapsulates."
   ]
  },
  {
   "cell_type": "markdown",
   "metadata": {},
   "source": [
    "2.4 Write a Python class, Flower, that has three instance variables of type str, int, and float, that respectively represent the name of the flower, its number of petals, and its price. Your class must include a constructor method that initializes each variable to an appropriate value, and your class should include methods for setting the value of each type, and retrieving the value of each type."
   ]
  },
  {
   "cell_type": "code",
   "execution_count": 5,
   "metadata": {},
   "outputs": [
    {
     "name": "stdout",
     "output_type": "stream",
     "text": [
      "Name: A\n",
      "Number of petal: 4\n",
      "Price: Attribute has not been set yet.\n",
      "Name is changed to: B\n",
      "Number of petal: 4\n",
      "Price: 199\n"
     ]
    }
   ],
   "source": [
    "# 2.4\n",
    "class Flower:\n",
    "    def __init__(self, name=None, petal_num=None, price=None):\n",
    "        self._name = name\n",
    "        self._petal_num = petal_num\n",
    "        self._price = price\n",
    "    \n",
    "    def set_name(self, name):\n",
    "        try:\n",
    "            self._name = str(name)\n",
    "        except:\n",
    "            print('Invalid input, it must be a string.')\n",
    "         \n",
    "    def set_petal_num(self, petal_num):\n",
    "        try:\n",
    "            self._petal_num = petal_num\n",
    "        except:\n",
    "            print('Invalid input, it must be a number.')\n",
    "    \n",
    "    def set_price(self, price):\n",
    "        try:\n",
    "            self._price = price\n",
    "        except:\n",
    "            print('Invalid input, it must be a number.')\n",
    "    \n",
    "    def get_name(self):\n",
    "        if self._name is None:\n",
    "            return ('Attribute has not been set yet.')\n",
    "        return self._name\n",
    "    \n",
    "    def get_petal_num(self):\n",
    "        if self._petal_num is None:\n",
    "            return ('Attribute has not been set yet.')\n",
    "        return self._petal_num\n",
    "    \n",
    "    def get_price(self):\n",
    "        if self._price is None:\n",
    "            return ('Attribute has not been set yet.')\n",
    "        return self._price\n",
    "    \n",
    "# Test\n",
    "flower1 = Flower('A', 4)\n",
    "print('Name:', flower1.get_name())\n",
    "print('Number of petal:', flower1.get_petal_num())\n",
    "print('Price:', flower1.get_price())\n",
    "flower1.set_name('B')\n",
    "flower1.set_price(199)\n",
    "print('Name is changed to:', flower1.get_name())\n",
    "print('Number of petal:', flower1.get_petal_num())\n",
    "print('Price:', flower1.get_price())"
   ]
  },
  {
   "cell_type": "code",
   "execution_count": null,
   "metadata": {},
   "outputs": [],
   "source": []
  }
 ],
 "metadata": {
  "kernelspec": {
   "display_name": "Python 3",
   "language": "python",
   "name": "python3"
  },
  "language_info": {
   "codemirror_mode": {
    "name": "ipython",
    "version": 3
   },
   "file_extension": ".py",
   "mimetype": "text/x-python",
   "name": "python",
   "nbconvert_exporter": "python",
   "pygments_lexer": "ipython3",
   "version": "3.7.6"
  }
 },
 "nbformat": 4,
 "nbformat_minor": 4
}
